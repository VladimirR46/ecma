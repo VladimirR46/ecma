{
 "cells": [
  {
   "cell_type": "code",
   "id": "initial_id",
   "metadata": {
    "collapsed": true,
    "ExecuteTime": {
     "end_time": "2025-07-09T16:39:58.972907Z",
     "start_time": "2025-07-09T16:39:58.936388Z"
    }
   },
   "source": [
    "import matplotlib\n",
    "import matplotlib.pyplot as plt\n",
    "import numpy as np\n",
    "import ecma"
   ],
   "outputs": [],
   "execution_count": 28
  },
  {
   "metadata": {
    "ExecuteTime": {
     "end_time": "2025-07-09T16:40:12.146650Z",
     "start_time": "2025-07-09T16:40:12.106214Z"
    }
   },
   "cell_type": "code",
   "source": [
    "loaded = np.loadtxt(\"eye_1000Hz.csv\", delimiter=\",\")\n",
    "xpos, ypos = loaded[:, 0], loaded[:, 1]\n",
    "freq = 1000.0"
   ],
   "id": "86705dd07933b2e5",
   "outputs": [],
   "execution_count": 31
  },
  {
   "metadata": {
    "ExecuteTime": {
     "end_time": "2025-07-09T16:40:16.960376Z",
     "start_time": "2025-07-09T16:40:15.169533Z"
    }
   },
   "cell_type": "code",
   "source": [
    "sac_info = ecma.ecma(xpos, ypos, freq=1000, n_delay=3)\n",
    "print('sac_count:', len(sac_info['dur']))"
   ],
   "id": "9847e0865c3ebef0",
   "outputs": [
    {
     "name": "stdout",
     "output_type": "stream",
     "text": [
      "sac_count: 100\n"
     ]
    }
   ],
   "execution_count": 32
  }
 ],
 "metadata": {
  "kernelspec": {
   "display_name": "Python 3",
   "language": "python",
   "name": "python3"
  },
  "language_info": {
   "codemirror_mode": {
    "name": "ipython",
    "version": 2
   },
   "file_extension": ".py",
   "mimetype": "text/x-python",
   "name": "python",
   "nbconvert_exporter": "python",
   "pygments_lexer": "ipython2",
   "version": "2.7.6"
  }
 },
 "nbformat": 4,
 "nbformat_minor": 5
}
